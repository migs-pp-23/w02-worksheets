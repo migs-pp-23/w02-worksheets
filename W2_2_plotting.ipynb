{
 "cells": [
  {
   "cell_type": "markdown",
   "metadata": {},
   "source": [
    "# W2.2. Plotting with `matplotlib.pyplot`\n",
    "\n",
    "In this worksheet, we introduce the `matplotlib` module and its `pyplot` interface as an easy way to create wide ranges of plots and graphs.\n",
    "\n",
    "The best way to learn programming is to write code. Don't hesitate to edit the code in the example cells, or add your own code, to test your understanding. You will find practice exercises throughout the notebook, denoted by 🚩 ***Exercise $x$:***.\n",
    "\n",
    "#### Displaying solutions\n",
    "\n",
    "Solutions will be released one week after the worksheets are released, as a `.txt` file on Learn. After uploading the file to the same folder as the worksheet (either your computer or your Noteable server), run the following cell to create clickable buttons under each exercise, which will allow you to reveal the solutions."
   ]
  },
  {
   "cell_type": "code",
   "execution_count": null,
   "metadata": {},
   "outputs": [],
   "source": [
    "%run scripts/create_widgets.py 'W2'"
   ]
  },
  {
   "cell_type": "markdown",
   "metadata": {},
   "source": [
    "---\n",
    "## A first plot\n",
    "\n",
    "The `matplotlib` library and its `pyplot` interface contain a very large number of built-in functions for plotting data. If you have used plotting in MATLAB before, using `matplotlib.pyplot` should feel very familiar.\n",
    "\n",
    "We import the plotting tools with\n",
    "\n",
    "```python\n",
    "%matplotlib notebook\n",
    "import matplotlib.pyplot as plt\n",
    "```\n",
    "\n",
    "where the first command is a notebook-wide setting, which allows to generate dynamic plots inside the Jupyter notebook, which we can e.g. zoom into or further modify. (We can toggle back to the default behaviour using the command `%matplotlib inline`, where all plots are \"printed\" for good when they are created, and cannot be further modified.)\n",
    "\n",
    "A basic line plot is generated using the `plt.plot()` function. For example, to plot $x \\sin \\left( x \\right)$ for $x \\in \\left[ 0, 2 \\pi \\right]$:\n",
    "* first, create a reasonably large number of values of $x$ at which to plot the function, for example using `np.linspace()` from the Numpy module;\n",
    "* then, evaluate the function at these values;\n",
    "* finally, create a line plot with `plt.plot()`, and display it with `plt.show()`."
   ]
  },
  {
   "cell_type": "code",
   "execution_count": null,
   "metadata": {},
   "outputs": [],
   "source": [
    "import numpy as np\n",
    "\n",
    "%matplotlib notebook\n",
    "import matplotlib.pyplot as plt\n",
    "\n",
    "# Create an x-axis with 1000 points\n",
    "x = np.linspace(0., 2*np.pi, 1000)\n",
    "\n",
    "# Evaluate the function at all these points\n",
    "y = x * np.sin(x)\n",
    "\n",
    "# Create the plot and display it\n",
    "plt.plot(x, y, 'k-')\n",
    "plt.show()"
   ]
  },
  {
   "cell_type": "markdown",
   "metadata": {},
   "source": [
    "The final argument of `plt.plot()` defines the line colour and line type: here `'k'` indicates black, and `'-'` indicates a solid line.\n",
    "\n",
    "The `plt.plot` function can be used to generate scatter plots by replacing the character indicating the line style (for example `-` for a solid line) with a symbol to indicate a marker style. For example\n",
    "\n",
    "```python\n",
    "plt.plot(x, y, 'kx')\n",
    "```\n",
    "\n",
    "plots a scatter plot with black crosses. Here the `x` character in the final argument indicates the marker type.\n",
    "    \n",
    "---\n",
    "**📚 Learn more:**\n",
    "* [Matplotlib: Python plotting](https://matplotlib.org/contents.html) - Matplotlib documentation\n",
    "* [Matplotlib gallery](https://matplotlib.org/gallery/index.html)\n",
    "* [Pyplot tutorial](https://matplotlib.org/tutorials/introductory/pyplot.html) - Matplotlib documentation\n",
    "* [Matplotlib line style reference](https://matplotlib.org/gallery/lines_bars_and_markers/line_styles_reference.html)\n",
    "* [Matplotlib: Specifying Colors](https://matplotlib.org/users/colors.html) - Matplotlib documentation\n",
    "* [Matplotlib: markers](https://matplotlib.org/api/markers_api.html) - Matplotlib documentation\n",
    "* [numpy.linspace](https://docs.scipy.org/doc/numpy/reference/generated/numpy.linspace.html) - Numpy documentation\n",
    "* [Chapter 4: Visualization with Matplotlib](https://jakevdp.github.io/PythonDataScienceHandbook/#4.-Visualization-with-Matplotlib) - J. VanderPlas, *The Python Data Science Handbook*\n",
    "\n",
    "---\n",
    "\n",
    "When plotting functions you should ensure that you evaluate the function at a sufficient number of points (typically at least $100$). `plt.plot(x, y)` draws one point per element in `x` and `y` (coordinates (`x[0], y[0]`), (`x[1], y[1]`), etc.), and joins these points with straight lines; a line plot therefore only looks smooth if the grid of points is dense enough. Try replacing `1000` with `10` in the code cell above to see this.\n",
    "\n",
    "---\n",
    "🚩 ***Exercise 5:*** Click on the 'Stop interaction' blue button in the plot above (we will see why later). Then, plot the following functions on the interval $x \\in \\left[ -\\pi, \\pi \\right]$. Try different line colours and types. Don't forget to `import matplotlib.pyplot`, or to run the previous example cell to import it.\n",
    "* a) $f_1(x) = \\sin \\left( x \\right)$,  \n",
    "* b) $f_2(x) = \\tan \\left( \\frac{49}{100} x \\right)$,  \n",
    "* c) $f_3(x) = \\sin \\left( x \\right) \\cos \\left( 2 x \\right)$."
   ]
  },
  {
   "cell_type": "code",
   "execution_count": null,
   "metadata": {},
   "outputs": [],
   "source": []
  },
  {
   "cell_type": "code",
   "execution_count": null,
   "metadata": {
    "tags": [
     "solution_cell"
    ]
   },
   "outputs": [],
   "source": [
    "%run scripts/show_solutions.py 'W2_ex5'"
   ]
  },
  {
   "cell_type": "markdown",
   "metadata": {},
   "source": [
    "---\n",
    "## Figures and axes as objects\n",
    "\n",
    "By default, if no plot exists, `plt.plot()` creates a *figure* window, and adds a set of *axes* to the figure. If a set of axes has already been created, when running `plt.plot()` a second time, the same axes are re-used, and the second plot is drawn over the first one. (If you didn't click the 'Stop interaction' button earlier, your plots in the first exercise will have appeared on top of the first example plot!)\n",
    "\n",
    "Like everything in Python, figures and axes are **objects**. The `plt.subplots()` function can used to create a new figure object, along with one or more set(s) of axes inside it. The statement\n",
    "\n",
    "```python\n",
    "fig, ax = plt.subplots(m, n)\n",
    "```\n",
    "\n",
    "creates a figure object, which we assign to the variable `fig`, and an array of axes, assigned to the variable `ax`, tiled in `m` rows and `n` columns. Try it:"
   ]
  },
  {
   "cell_type": "code",
   "execution_count": null,
   "metadata": {},
   "outputs": [],
   "source": [
    "import numpy as np\n",
    "import matplotlib.pyplot as plt\n",
    "\n",
    "# Define x\n",
    "x = np.linspace(0, 2*np.pi, 1000)\n",
    "\n",
    "# Create figure and axes\n",
    "fig_1, ax_1 = plt.subplots(2, 3)\n",
    "\n",
    "# We can also create a second figure, with the optional\n",
    "# \"figsize\" argument of plt.subplots()\n",
    "fig_2, ax_2 = plt.subplots(1, 4, figsize=(7, 2))\n",
    "\n",
    "plt.show()"
   ]
  },
  {
   "cell_type": "markdown",
   "metadata": {},
   "source": [
    "Now, we can select individual axes in the array, and use `.plot()` as before (this time, as a **method** of the `Axes` object):"
   ]
  },
  {
   "cell_type": "code",
   "execution_count": null,
   "metadata": {},
   "outputs": [],
   "source": [
    "# Plot on 1st row, 2nd column of the first figure\n",
    "ax_1[0, 1].plot(x, np.sin(x), 'm-')\n",
    "\n",
    "# Plot on 2nd row, 3rd column\n",
    "ax_1[1, 2].plot(x, np.cos(x), 'c-')\n",
    "\n",
    "# Plot on 4th plot of the second figure\n",
    "ax_2[3].plot(x, np.sinc(x), 'g-.')\n",
    "\n",
    "# Update the display\n",
    "plt.show()"
   ]
  },
  {
   "cell_type": "markdown",
   "metadata": {},
   "source": [
    "Remember to scroll up to see these changes on the first figure (as we plotted on `ax_1`). Try changing the axes onto which these appear (for instance, try the second set of axes in the second figure).\n",
    "\n",
    "Note that, when using `plt.subplots(m, n)` with `m` or `n` equal to `1` (that is, when creating a single row or column of plots), as is the case for `ax_2`, you only need one index to access a given subplot.\n",
    "\n",
    "---\n",
    "**📚 Learn more:**\n",
    "* [Matplotlib Usage Guide: Parts of a figure](https://matplotlib.org/tutorials/introductory/usage.html)\n",
    "\n",
    "---\n",
    "\n",
    "🚩 ***Exercise 6:*** Use the `plt.subplots` function to plot the three functions in the previous exercise in one figure, with a different subplot for each."
   ]
  },
  {
   "cell_type": "code",
   "execution_count": null,
   "metadata": {},
   "outputs": [],
   "source": []
  },
  {
   "cell_type": "code",
   "execution_count": null,
   "metadata": {
    "tags": [
     "solution_cell"
    ]
   },
   "outputs": [],
   "source": [
    "%run scripts/show_solutions.py 'W2_ex6'"
   ]
  },
  {
   "cell_type": "markdown",
   "metadata": {},
   "source": [
    "---\n",
    "## Setting axis properties\n",
    "\n",
    "The axis range can be controlled using the `.set_xlim()` and `.set_ylim()` methods, for example\n",
    "\n",
    "```python\n",
    "my_ax.plot(x, np.sin(x), 'k-')\n",
    "my_ax.set_xlim([0, 2*np.pi])\n",
    "my_ax.set_ylim([-1.1, 1.1])\n",
    "```\n",
    "\n",
    "plots the function $\\sin \\left( x \\right)$ for $x \\in \\left[ 0, 2 \\pi \\right]$ on the `Axes` object assigned to the variable `my_ax`, and then specifies that the $x$-axis range should be from $0$ to $2 \\pi$, and the $y$-axis range should be from $-1.1$ to $1.1$.\n",
    "\n",
    "Axis labels can be added using the `.set_xlabel()` and `.set_ylabel()` methods, for example\n",
    "\n",
    "```python\n",
    "ax.set_xlabel('x', fontsize=12)\n",
    "```\n",
    "\n",
    "The label is the first argument, a string. The additional argument, `fontsize=12`, is used to control the font size of the axis label, here setting the font size to $12$pt.  If you wish you can use LaTeX in axis labels via\n",
    "\n",
    "```python\n",
    "ax.set_xlabel(r'$x$', fontsize=12)\n",
    "```\n",
    "\n",
    "where the `r` before the label means \"raw string\"; this allows backslashes in e.g. LaTeX math symbols to be interpreted correctly.\n",
    "\n",
    "Plots should **always** include appropriate labelling.\n",
    "\n",
    "---\n",
    "🚩 ***Exercise 7:*** Use `set_xlim` to control the $x$-axis range for the plots generated in the previous exercise, plotting values of $x \\in \\left[-\\pi, \\pi \\right]$. You don't have to draw another figure -- for example, use `ax[0].set_xlim` to set the $x$-axis range for the first of the 3 subplots.\n",
    "\n",
    "Use `set_xlabel` and `set_ylabel` to add axis labels to the plots, with a font size of $14$pt.\n",
    "\n",
    "*Hints:*\n",
    "* If the plot becomes a little squeezed, you can adjust the *spacing* between the subplots in a figure after you have created them, using the function `plt.subplots_adjust()`, for example\n",
    "```python\n",
    "plt.subplots_adjust(hspace=0.5, wspace=0.5)\n",
    "```\n",
    "where `hspace` (height spacing) and `wspace` (width spacing) should take values between 0 and 1. (See [Matplotlib: subplots_adjust](https://matplotlib.org/api/_as_gen/matplotlib.pyplot.subplots_adjust.html))\n",
    "* Since the axes are indexed by number, you can use a `for` loop to set properties common to all axes."
   ]
  },
  {
   "cell_type": "code",
   "execution_count": null,
   "metadata": {},
   "outputs": [],
   "source": []
  },
  {
   "cell_type": "code",
   "execution_count": null,
   "metadata": {
    "tags": [
     "solution_cell"
    ]
   },
   "outputs": [],
   "source": [
    "%run scripts/show_solutions.py 'W2_ex7'"
   ]
  },
  {
   "cell_type": "markdown",
   "metadata": {},
   "source": [
    "---\n",
    "## Adding a legend\n",
    "\n",
    "Earlier, we have seen how to display multiple lines on the same set of axes. When doing so, it is essential to add a legend to the plot, via\n",
    "\n",
    "```python\n",
    "ax.legend()\n",
    "```\n",
    "\n",
    "which labels all curves of the plot in `ax`. The label text should be set when plotting the curve, and can contain LaTeX code, e.g.\n",
    "\n",
    "```python\n",
    "ax.plot(x, y1, 'g-', label=r'$y_1$')\n",
    "ax.plot(x, y2, 'y-', label=r'$y_2$')\n",
    "ax.legend()\n",
    "```\n",
    "\n",
    "displays a legend on `ax` with the green curve labelled $y_1$ and the yellow curve labelled $y_2$.\n",
    "\n",
    "The location can be controlled via an additional argument `loc`, followed by a string indicating the location, e.g.\n",
    "\n",
    "```python\n",
    "ax.legend(loc='lower right')\n",
    "```\n",
    "\n",
    "which displays the legend in the lower right (the \"south east\" of the figure). Other locations can be chosen via different compass locations.\n",
    "\n",
    "The legend font size can be controlled the same way as for axis labels, e.g.\n",
    "\n",
    "```python\n",
    "ax.legend(loc='lower right', fontsize=14)\n",
    "```\n",
    "\n",
    "where here the font size is set to $14$.\n",
    "\n",
    "---\n",
    "**📚 Learn more:**\n",
    "* [Matplotlib: legend](https://matplotlib.org/api/_as_gen/matplotlib.pyplot.legend.html) - Documentation\n",
    "* [Customizing Plot Legends](https://jakevdp.github.io/PythonDataScienceHandbook/04.06-customizing-legends.html) - The Python Data Science Handbook\n",
    "\n",
    "---\n",
    "\n",
    "🚩 ***Exercise 8:*** The Maclaurin series for $\\cos(x)$ is given by\n",
    "\n",
    "$$\n",
    "\\cos(x) = \\sum_{k=0}^{\\infty} (-1)^k \\frac{x^{2k}}{(2k)!}.\n",
    "$$\n",
    "\n",
    "Create a new figure with a single set of axes. Plot $\\cos(x)$ over the interval $[-\\pi, \\pi]$. On the same axes, plot the Maclaurin series truncated to the second, fourth, and sixth order terms, evaluated over the same interval. Set the axis ranges and labels, and add a legend to the plot.\n",
    "\n",
    "*Hint:* you may wish to use the function [`math.factorial()` included with the `math` module](https://docs.python.org/3/library/math.html)."
   ]
  },
  {
   "cell_type": "code",
   "execution_count": null,
   "metadata": {},
   "outputs": [],
   "source": []
  },
  {
   "cell_type": "code",
   "execution_count": null,
   "metadata": {
    "tags": [
     "solution_cell"
    ]
   },
   "outputs": [],
   "source": [
    "%run scripts/show_solutions.py 'W2_ex8'"
   ]
  }
 ],
 "metadata": {
  "kernelspec": {
   "display_name": "Python 3",
   "language": "python",
   "name": "python3"
  },
  "language_info": {
   "codemirror_mode": {
    "name": "ipython",
    "version": 3
   },
   "file_extension": ".py",
   "mimetype": "text/x-python",
   "name": "python",
   "nbconvert_exporter": "python",
   "pygments_lexer": "ipython3",
   "version": "3.7.6"
  }
 },
 "nbformat": 4,
 "nbformat_minor": 4
}
