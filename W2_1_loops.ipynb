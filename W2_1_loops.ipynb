{
 "cells": [
  {
   "cell_type": "markdown",
   "metadata": {},
   "source": [
    "# W2.1. Control flow: loops\n",
    "\n",
    "Suppose we want to perform a set of instructions *repeatedly*. For example, we may wish to iteratively update some values, or to perform the same operations on each element in a given sequence. **Loops** allow us to do this easily.\n",
    "\n",
    "The best way to learn programming is to write code. Don't hesitate to edit the code in the example cells, or add your own code, to test your understanding. You will find practice exercises throughout the notebook, denoted by 🚩 ***Exercise $x$:***.\n",
    "\n",
    "#### Displaying solutions\n",
    "\n",
    "Solutions will be released one week after the worksheets are released, as a `.txt` file on Learn. After uploading the file to the same folder as the worksheet (either your computer or your Noteable server), run the following cell to create clickable buttons under each exercise, which will allow you to reveal the solutions."
   ]
  },
  {
   "cell_type": "code",
   "execution_count": null,
   "metadata": {},
   "outputs": [],
   "source": [
    "%run scripts/create_widgets.py 'W2'"
   ]
  },
  {
   "cell_type": "markdown",
   "metadata": {},
   "source": [
    "---\n",
    "## Introduction: what's a loop?\n",
    "\n",
    "More often than not, an important motivation for using programming to solve problems is the computer's ability (relative to the human brain's struggle) to perform a given set of computations *many* times over, very quickly. Loops allow us to do just that: give the computer a set of instructions and a stopping point, and it will execute these instructions over and over until that point is reached.\n",
    "\n",
    "As a simple first example, take the exercise from W1.2.: create a string variable `my_string`, holding some text characters of your choice. Create an integer variable `m` with some value $m$, and use it to print **every $m$th character** of `my_string`.\n",
    "\n",
    "To do this without loops, we need to type the `print()` command repeatedly, and change the index every time:"
   ]
  },
  {
   "cell_type": "code",
   "execution_count": null,
   "metadata": {},
   "outputs": [],
   "source": [
    "my_string = 'Some text characters of my choice.'\n",
    "m = 4\n",
    "\n",
    "# Find out how many times we can print the mth character\n",
    "# before exceeding the string length\n",
    "N = len(my_string)\n",
    "print(N // m)\n",
    "\n",
    "print(my_string[m - 1])\n",
    "print(my_string[2 * m - 1])\n",
    "print(my_string[3 * m - 1])\n",
    "print(my_string[4 * m - 1])\n",
    "print(my_string[5 * m - 1])\n",
    "print(my_string[6 * m - 1])\n",
    "print(my_string[7 * m - 1])\n",
    "print(my_string[8 * m - 1])"
   ]
  },
  {
   "cell_type": "markdown",
   "metadata": {},
   "source": [
    "By now, you will have learned about *slicing*, and you could think of doing it this way:"
   ]
  },
  {
   "cell_type": "code",
   "execution_count": null,
   "metadata": {},
   "outputs": [],
   "source": [
    "my_string = 'Some text characters of my choice.'\n",
    "m = 4\n",
    "\n",
    "print(my_string[m-1::m])"
   ]
  },
  {
   "cell_type": "markdown",
   "metadata": {},
   "source": [
    "Not bad! But we could also do this with a **`for` loop** --- don't worry, we'll explain how it works in the next section:"
   ]
  },
  {
   "cell_type": "code",
   "execution_count": null,
   "metadata": {},
   "outputs": [],
   "source": [
    "my_string = 'Some text characters of my choice.'\n",
    "m = 4\n",
    "\n",
    "N = len(my_string)\n",
    "\n",
    "# Loop over the characters\n",
    "for i in range(m-1, N, m):\n",
    "    print(my_string[i])"
   ]
  },
  {
   "cell_type": "markdown",
   "metadata": {},
   "source": [
    "There are two types of loop available in Python:\n",
    "* **`for`** loops allow us to perform a set of instructions *for* a pre-determined number of *iterations*;\n",
    "* **`while`** loops allow us to perform a set of instructions *while* a given condition is true. The number of iterations need not be known in advance.\n",
    "\n",
    "---\n",
    "## `for` loops\n",
    "\n",
    "`for` loops iterate over the elements of a **sequence** (e.g. a list, tuple, or string), in the order in which they appear in that sequence. The syntax is as follows:\n",
    "```python\n",
    "for i in my_seq:\n",
    "    [some instructions]\n",
    "```\n",
    "The `for` loop uses a *placeholder variable* (`i` in the example above), which is assigned with each element of `my_seq`, in turn.\n",
    "\n",
    "For example, we can loop over a list to print each of its elements separately:"
   ]
  },
  {
   "cell_type": "code",
   "execution_count": null,
   "metadata": {},
   "outputs": [],
   "source": [
    "a = [1, 2, 3, 10, 6]\n",
    "\n",
    "for element in a:\n",
    "    print(element)\n",
    "    \n",
    "print('These are all the elements of a.')"
   ]
  },
  {
   "cell_type": "markdown",
   "metadata": {},
   "source": [
    "When the loop starts, `element` is assigned the value `a[0]`, and the instructions in the loop are performed. Here, we just have one instruction, `print(element)`: the value `a[0]` is printed.\n",
    "\n",
    "When all instructions have been executed, we go back to the start of the loop, and `element` is assigned the next value `a[1]`. The instructions are executed, and we start again. The loop **terminates** when we run out of elements in `a` -- here, after 5 iterations. The rest of the code is then executed as usual.\n",
    "\n",
    "<div style=\"width:60%;margin:auto;\">\n",
    "\n",
    "![Looping over the elements of a](graphics/forloop.png)\n",
    "\n",
    "</div>\n",
    "\n",
    "Note that after the loop terminates, the variable `element` is not deleted; it remains assigned with the last value it was assigned by the loop --- here, `a[4]`. (You can see this by printing its value once *after* the loop.)\n",
    "\n",
    "---\n",
    "🚩 ***Exercise:*** Indent the last line in the code cell above, by adding 4 spaces (either manually, or by inserting a <kbd>Tab</kbd> character, which will automatically be converted to 4 spaces) at the start of the line. Run the cell again -- what happens?\n",
    "\n",
    "---\n",
    "\n",
    "### Ranges\n",
    "\n",
    "There is another *sequence type* which we haven't mentioned so far, but is often useful in conjunction with `for` loops: the `range` type. A range is a sequence of increasing or decreasing integers, and can be created using the `range()` function, as follows:\n",
    "```python\n",
    "range(j)             # 0, 1, 2, ..., j-1\n",
    "range(i, j)          # i, i+1, i+2, ..., j-1\n",
    "range(i, j, k)       # i, i+k, i+2k, ..., i+m\n",
    "```\n",
    "where `m` is the largest multiple of `k` such that `i + m` $\\leq$ `j - 1`. Note that, as was the case for index slicing, **the stopping index `j` is the first value which is *not* included in the range**. A few examples:"
   ]
  },
  {
   "cell_type": "code",
   "execution_count": null,
   "metadata": {},
   "outputs": [],
   "source": [
    "print(range(5))\n",
    "print(list(range(5)))\n",
    "print(list(range(10, -10, -3)))"
   ]
  },
  {
   "cell_type": "markdown",
   "metadata": {},
   "source": [
    "Note that, to print all elements of a range object, we first cast it to a list.\n",
    "\n",
    "Now, let us see how ranges can be helpful with `for` loops. For example, consider the sum\n",
    "$$\n",
    "S = \\sum_{i=0}^{10} i.\n",
    "$$\n",
    "One way to compute this sum would be as follows:"
   ]
  },
  {
   "cell_type": "code",
   "execution_count": null,
   "metadata": {},
   "outputs": [],
   "source": [
    "S = 0\n",
    "\n",
    "# Loop over indices 0 to 10, inclusive\n",
    "for i in range(11):\n",
    "    S += i    # this is a shortcut for S = S + i\n",
    "\n",
    "print(S)"
   ]
  },
  {
   "cell_type": "markdown",
   "metadata": {},
   "source": [
    "---\n",
    "***Note:*** when looping over a **sequence** (e.g. a list, string, tuple --- anything with elements indexed by number), you can either loop over the elements or over the indices. The two loops here produce the same result:"
   ]
  },
  {
   "cell_type": "code",
   "execution_count": null,
   "metadata": {},
   "outputs": [],
   "source": [
    "a = [2, 5, 7, 2, 1]\n",
    "\n",
    "# Looping over the list by element\n",
    "for element in a:\n",
    "    print(element)\n",
    "    \n",
    "# Looping over the list by index\n",
    "for idx in range(len(a)):\n",
    "    print(a[idx])"
   ]
  },
  {
   "cell_type": "markdown",
   "metadata": {},
   "source": [
    "- At the $n$th iteration in the first loop, `element` is assigned the value of the $n$th element of `a`. For instance, at iteration 2 (starting from 0 for convenience), `element` is `7`.\n",
    "- At the $n$th iteration in the second loop, `idx` is assigned the value $n$. For instance, at iteration 2, `idx` is `2`. (Here, strictly speaking, we don't actually loop over `a`, but over a `range` of numbers from 0 to 4, which we use to index the elements of `a` from inside the loop.)\n",
    "\n",
    "The choice of either looping by element or by index usually depends on the problem --- in general, if the index (the position) of each element is not needed for the computations inside the loop, the first form is preferred.\n",
    "\n",
    "---\n",
    "🚩 ***Exercise 1:*** Using a `for` loop, compute and print the product\n",
    "$$\n",
    "P = \\prod_{j=2}^{n} \\left(j^3 + 5j^2 - 3\\right),\n",
    "$$\n",
    "where $n \\geq 2$ is an integer value of your choice. To check your code, the result for $n=20$ is\n",
    "```\n",
    "102608796359678464673256924713629769626423839617879814815625.\n",
    "```"
   ]
  },
  {
   "cell_type": "code",
   "execution_count": null,
   "metadata": {},
   "outputs": [],
   "source": []
  },
  {
   "cell_type": "code",
   "execution_count": null,
   "metadata": {
    "scrolled": true,
    "tags": [
     "solution_cell"
    ]
   },
   "outputs": [],
   "source": [
    "%run scripts/show_solutions.py 'W2_ex1'"
   ]
  },
  {
   "cell_type": "markdown",
   "metadata": {},
   "source": [
    "---\n",
    "🚩 ***Exercise 2:*** Construct a loop over all words in the string `zen`. For each word:\n",
    "* if it contains an `e`, print the word.\n",
    "* if it does not contain an `e`, but contains an `i`, print the first character of the word.\n",
    "* if it does not contain an `e` nor an `i`, increment `count` by 1.\n",
    "\n",
    "*Notes:*\n",
    "- *You will first need to create a list of words from the string --- luckily, you should find a convenient [method](https://docs.python.org/3/library/stdtypes.html#string-methods) for this if you search the documentation.*\n",
    "- *The text is from the Zen of Python: https://www.python.org/dev/peps/pep-0020/*"
   ]
  },
  {
   "cell_type": "code",
   "execution_count": null,
   "metadata": {},
   "outputs": [],
   "source": [
    "zen = 'If the implementation is hard to explain, it is a bad idea. If the implementation is easy to explain, it may be a good idea.'\n",
    "count = 0\n",
    "\n"
   ]
  },
  {
   "cell_type": "code",
   "execution_count": null,
   "metadata": {
    "tags": [
     "solution_cell"
    ]
   },
   "outputs": [],
   "source": [
    "%run scripts/show_solutions.py 'W2_ex2'"
   ]
  },
  {
   "cell_type": "markdown",
   "metadata": {},
   "source": [
    "---\n",
    "### Looping over tuples and dictionary items\n",
    "\n",
    "We saw in W1.3. that we could *unpack* variables from a tuple. We can make use of this feature to loop over a sequence of tuples (of equal length), using a different placeholder variable for each tuple member. For example, let us define a list of pairs of numbers, and calculate the sum of each pair using a loop, in 2 different ways:"
   ]
  },
  {
   "cell_type": "code",
   "execution_count": null,
   "metadata": {},
   "outputs": [],
   "source": [
    "pairs = [(1, 3), (5, -1), (0, 9), (4, -4), (4, 1)]\n",
    "\n",
    "# Looping over the tuples\n",
    "sum_of_pairs = []\n",
    "for u in pairs:                      # For each tuple...\n",
    "    sum_of_pairs.append(u[0] + u[1]) # ...sum first and second element\n",
    "print(sum_of_pairs)\n",
    "\n",
    "# Same thing, but unpacking each tuple\n",
    "sum_of_pairs = []\n",
    "for a, b in pairs:              # For each (a, b) tuple...\n",
    "    sum_of_pairs.append(a + b)  # ... sum a and b\n",
    "print(sum_of_pairs)"
   ]
  },
  {
   "cell_type": "markdown",
   "metadata": {},
   "source": [
    "The second example can prove particularly useful to loop over dictionary items, by key and value simultaneously, taking advantage of the `.items()` method, which returns (something resembling) a list of tuples. For instance:"
   ]
  },
  {
   "cell_type": "code",
   "execution_count": null,
   "metadata": {
    "scrolled": true
   },
   "outputs": [],
   "source": [
    "scores = {'Alice': 80, 'Bob': 64, 'Charlie': 72}\n",
    "\n",
    "for key, val in scores.items():\n",
    "    print(key, 'scored', val, 'on the test.')"
   ]
  },
  {
   "cell_type": "markdown",
   "metadata": {},
   "source": [
    "---\n",
    "**📚 Learn more:**\n",
    "* [The `for` statement - Python 3.7 documentation](https://docs.python.org/3/tutorial/controlflow.html#for-statements)\n",
    "* [Ranges - Python 3.7 documentation](https://docs.python.org/3/library/stdtypes.html#typesseq-range)\n",
    "* [Looping techniques - Python 3.7 documentation](https://docs.python.org/3/tutorial/datastructures.html#looping-techniques) -- some useful tricks to loop over sequences, including the `enumerate()` and `zip()` functions.\n",
    "---\n",
    "\n",
    "## `while` loops\n",
    "\n",
    "`while` loops are used to repeat a set of instructions *while* a given condition is true. The `while` statement does *not* use any placeholder variables; instead, it must be given a Boolean object (i.e., an expression which evaluates to either `True` or `False`). The syntax is as follows:\n",
    "```python\n",
    "while my_condition:\n",
    "    [some instructions]\n",
    "```\n",
    "where `my_condition` has type `bool`. The instructions in the loop are executed repeatedly, until `my_condition` evaluates to `False`, after which the loop terminates.\n",
    "\n",
    "For example, we can calculate the same sum $S$ as earlier, using a `while` loop:"
   ]
  },
  {
   "cell_type": "code",
   "execution_count": null,
   "metadata": {},
   "outputs": [],
   "source": [
    "S = 0\n",
    "i = 0\n",
    "\n",
    "while i <= 10:\n",
    "    S += i\n",
    "    i += 1\n",
    "\n",
    "print(S)"
   ]
  },
  {
   "cell_type": "markdown",
   "metadata": {},
   "source": [
    "We start with assigning `S = 0`, as with the `for` loop. Here, because `while` loops don't assign the placeholder variable by themselves, we need to assign and increment `i` manually.\n",
    "\n",
    "We get to the start of the loop, and the condition is checked. Since we start with `i = 0`, the expression `i <= 10` evaluates to `True`, and we can proceed with the first iteration. `i` is incremented by 1 inside the loop.\n",
    "\n",
    "For the next iteration, `i = 1`, and `i <= 10` still evaluates to `True` -- we proceed again with the instructions in the loop.\n",
    "\n",
    "The 11th iteration ends by assigning `i = 11`. Going back up to the `while` statement, the expression `i <= 10` now evaluates to `False`, and the loop terminates immediately.\n",
    "\n",
    "For this example, the `for` loop is clearly the better choice, as we already know how many iterations we need to complete the calculation.\n",
    "\n",
    "---\n",
    "**📚 Learn more:**\n",
    "* [First steps towards programming - The `while` loop - Python 3.7 documentation](https://docs.python.org/3/tutorial/introduction.html#first-steps-towards-programming)\n",
    "* [The `while` statement](https://docs.python.org/3/reference/compound_stmts.html#while)\n",
    "---\n",
    "\n",
    "### The `break`  statement in loops\n",
    "\n",
    "Sometimes, we may wish to exit a loop early -- for example, when we try to find the first element in a list which matches a condition. Once we find the element, we don't want to keep looping through the rest of the list.\n",
    "\n",
    "The `break` statement can be used to exit a loop conditionally. Here is an example:"
   ]
  },
  {
   "cell_type": "code",
   "execution_count": null,
   "metadata": {},
   "outputs": [],
   "source": [
    "list_of_strings = ['hello', 'this', 'is', 'a', 'lot', 'of', 'text', 'in', 'a','list.']\n",
    "\n",
    "# Find and display the first word which starts with an i\n",
    "for word in list_of_strings:\n",
    "    if word[0] == 'i':\n",
    "        print(word)\n",
    "        break"
   ]
  },
  {
   "cell_type": "markdown",
   "metadata": {},
   "source": [
    "---\n",
    "**Note:** It is easy to see that a `while` loop can potentially run forever. When this happens, `In [*]:` will appear on the top left of the code cell -- click the square button on the toolbar above to interrupt the kernel.\n",
    "\n",
    "It is also usually a good idea to count iterations when using `while` loops, for instance by incrementing a counter variable at every iteration. To safeguard against infinite loops, you can then `break` the loop conditionally, for example if the counter exceeds some maximum number of iterations.\n",
    "\n",
    "---\n",
    "**📚 Learn more:**\n",
    "* [More flow control tools - Python 3.7 documentation](https://docs.python.org/3/tutorial/controlflow.html)\n",
    "* [Boolean operations - Python 3.7 documentation](https://docs.python.org/3/reference/expressions.html#boolean-operations)\n",
    "* [`break` and `continue` statements, and `else` clauses on loops - Python 3.7 documentation](https://docs.python.org/3/tutorial/controlflow.html#break-and-continue-statements-and-else-clauses-on-loops)\n",
    "\n",
    "\n",
    "---\n",
    "🚩 ***Exercise 3:*** The following is an example of *nested loops*. Try to predict the displayed output, and run the cell to verify. How does `break` behave within nested loops?"
   ]
  },
  {
   "cell_type": "code",
   "execution_count": null,
   "metadata": {},
   "outputs": [],
   "source": [
    "count = 0\n",
    "\n",
    "for i in range(10):\n",
    "    for j in range(5):\n",
    "        count += 1\n",
    "        if count > 17:\n",
    "            break\n",
    "    print(count)"
   ]
  },
  {
   "cell_type": "code",
   "execution_count": null,
   "metadata": {
    "tags": [
     "solution_cell"
    ]
   },
   "outputs": [],
   "source": [
    "%run scripts/show_solutions.py 'W2_ex3'"
   ]
  },
  {
   "cell_type": "markdown",
   "metadata": {},
   "source": [
    "---\n",
    "🚩 ***Exercise 4:*** Consider a sequence $\\{a_k\\}_{k \\in \\mathbb{N}}$, with $a_0 = m$ (a positive integer), and such that\n",
    "\n",
    "$$\n",
    "a_{k+1} = \\begin{cases}\n",
    "\\frac{a_k}{2} &\\text{ if } a_k \\text{ is even} \\\\\n",
    "3a_k + 1 &\\text{ if } a_k \\text{ is odd.} \\\\\n",
    "\\end{cases}\n",
    "$$\n",
    "\n",
    "The [Collatz conjecture](https://en.wikipedia.org/wiki/Collatz_conjecture) states that this sequence always reaches 1, for any starting number $m$. Write a function `collatz()` which takes one input argument, a positive integer `m`, and returns one output value, the positive integer $k^\\ast$ such that $a_{k^\\ast} = 1$. In other words, $k^\\ast$ is the number of iterations needed to reach 1 starting from `m`.\n",
    "\n",
    "To test your function:\n",
    "- `collatz(15)` should return `17`\n",
    "- `collatz(27)` should return `111`\n",
    "- `collatz(618)` should return `25`"
   ]
  },
  {
   "cell_type": "code",
   "execution_count": null,
   "metadata": {},
   "outputs": [],
   "source": []
  },
  {
   "cell_type": "code",
   "execution_count": null,
   "metadata": {
    "tags": [
     "solution_cell"
    ]
   },
   "outputs": [],
   "source": [
    "%run scripts/show_solutions.py 'W2_ex4'"
   ]
  }
 ],
 "metadata": {
  "kernelspec": {
   "display_name": "Python 3",
   "language": "python",
   "name": "python3"
  },
  "language_info": {
   "codemirror_mode": {
    "name": "ipython",
    "version": 3
   },
   "file_extension": ".py",
   "mimetype": "text/x-python",
   "name": "python",
   "nbconvert_exporter": "python",
   "pygments_lexer": "ipython3",
   "version": "3.7.6"
  }
 },
 "nbformat": 4,
 "nbformat_minor": 2
}
