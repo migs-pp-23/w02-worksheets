{
 "cells": [
  {
   "cell_type": "markdown",
   "metadata": {},
   "source": [
    "# W2.3. Troubleshooting and debugging\n",
    "\n",
    "In this worksheet, we learn about errors and exceptions, how to interpret different error messages to debug our code, and how to find resources in the Python documentation.\n",
    "\n",
    "The best way to learn programming is to write code. Don't hesitate to edit the code in the example cells, or add your own code, to test your understanding. You will find practice exercises throughout the notebook, denoted by 🚩 ***Exercise $x$:***.\n",
    "\n",
    "#### Displaying solutions\n",
    "\n",
    "Solutions will be released one week after the worksheets are released, as a `.txt` file on Learn. After uploading the file to the same folder as the worksheet (either your computer or your Noteable server), run the following cell to create clickable buttons under each exercise, which will allow you to reveal the solutions."
   ]
  },
  {
   "cell_type": "code",
   "execution_count": null,
   "metadata": {},
   "outputs": [],
   "source": [
    "%run scripts/create_widgets.py 'W2'"
   ]
  },
  {
   "cell_type": "markdown",
   "metadata": {},
   "source": [
    "---\n",
    "## Errors and exceptions\n",
    "\n",
    "You have probably already encountered a few error messages -- it is essential to know how to interpret these to debug your code and troubleshoot problems.\n",
    "\n",
    "Here is an example of an error message -- run the cell below:"
   ]
  },
  {
   "cell_type": "code",
   "execution_count": null,
   "metadata": {},
   "outputs": [],
   "source": [
    "my_string = 'Hello world'\n",
    "if my_string[0] == 'H'\n",
    "    print(my_string)"
   ]
  },
  {
   "cell_type": "markdown",
   "metadata": {},
   "source": [
    "Can you spot the error?\n",
    "\n",
    "The first line of the error message indicates the *file* where the error happened -- this is useful when working on projects with many different Python scripts and custom modules, not so much for us here on Jupyter.\n",
    "\n",
    "Note that the **line number** also appears in the error message. You can see line numbers in Jupyter notebooks by clicking <kbd>View</kbd> > <kbd>Toggle Line Numbers</kbd> in the menu bar at the top of the page.\n",
    "\n",
    "The second line repeats the line where the error was detected, and we can check that this is indeed line 2 in our cell, as indicated previously.\n",
    "\n",
    "The third line only has a `^` character. This is simply an **arrow**, which indicates where the error was detected, on the line printed above. Here, the `^` sits just after the last character in the `if` statement; the colon `:` is missing.\n",
    "\n",
    "Finally, the very last line indicates two things:\n",
    "* the **type** of error -- here, a `SyntaxError`. Like everything else in Python, errors and exceptions are also objects with types.\n",
    "* the **error message**, -- here, `invalid syntax`. The error message tries to give you more specific information about what the issue is.\n",
    "\n",
    "*Syntax errors* are what they sound like -- usually typos. They are detected even before the code is executed. They occur when the code you wrote is not valid Python syntax; in the example above, as pointed out by the little arrow `^`, we forgot the colon `:` at the end of the `if` statement.\n",
    "\n",
    "### Built-in exception types\n",
    "\n",
    "Simply speaking, when an **error** is detected in your code, an **exception** is raised, which interrupts execution and gives you some information about what went wrong. There are many built-in exception types in Python -- here are some of the more commonly encountered ones, run the code cells to see an example of the corresponding error **trace**. Note that the offending line is usually printed with a few lines of context.\n",
    "\n",
    "* **`IndexError`**: a sequence subscript is out of range."
   ]
  },
  {
   "cell_type": "code",
   "execution_count": null,
   "metadata": {},
   "outputs": [],
   "source": [
    "my_list = [1, 2, 3, 4]\n",
    "print(my_list[4])"
   ]
  },
  {
   "cell_type": "markdown",
   "metadata": {},
   "source": [
    "* **`NameError`**: the variable referred to does not exist. This often comes up when you mistype a variable name."
   ]
  },
  {
   "cell_type": "code",
   "execution_count": null,
   "metadata": {},
   "outputs": [],
   "source": [
    "my_list = [1, 2, 3, 4]\n",
    "print(my_ist)"
   ]
  },
  {
   "cell_type": "markdown",
   "metadata": {},
   "source": [
    "* **`SyntaxError`**: the code is not syntactically correct --- it is not valid Python."
   ]
  },
  {
   "cell_type": "code",
   "execution_count": null,
   "metadata": {},
   "outputs": [],
   "source": [
    "my_string = 'Hello world'\n",
    "if my_string[0] == 'H'\n",
    "    print(my_string)"
   ]
  },
  {
   "cell_type": "markdown",
   "metadata": {},
   "source": [
    "* **`TypeError`**: a *very* common error to see when learning Python! This means that an operation or a function is applied to an object of the wrong *type*. A few examples:"
   ]
  },
  {
   "cell_type": "code",
   "execution_count": null,
   "metadata": {},
   "outputs": [],
   "source": [
    "# Trying to index something that is not a sequence...\n",
    "my_int = 4\n",
    "print(my_int[2])"
   ]
  },
  {
   "cell_type": "code",
   "execution_count": null,
   "metadata": {},
   "outputs": [],
   "source": [
    "# Trying to multiply two lists together...\n",
    "my_list = [1, 2, 3, 4]\n",
    "my_other_list = [5, 6, 7]\n",
    "print(my_list * my_other_list)"
   ]
  },
  {
   "cell_type": "code",
   "execution_count": null,
   "metadata": {},
   "outputs": [],
   "source": [
    "# Trying to compute the square of a tuple...\n",
    "def my_func(x):\n",
    "    return x ** 2\n",
    "\n",
    "print(my_func((4, 7)))"
   ]
  },
  {
   "cell_type": "markdown",
   "metadata": {},
   "source": [
    "* **`ValueError`**: raised when an operation or function is applied to an object with the right *type*, but an invalid *value*. For example, the `int()` function can cast a string to an integer, *if the string can be interpreted as a number*."
   ]
  },
  {
   "cell_type": "code",
   "execution_count": null,
   "metadata": {},
   "outputs": [],
   "source": [
    "a = int('432')    # all good\n",
    "b = int('hello')  # ValueError"
   ]
  },
  {
   "cell_type": "markdown",
   "metadata": {},
   "source": [
    "---\n",
    "🚩 ***Exercise:*** Try to come up with new code examples which trigger each of the above types of error."
   ]
  },
  {
   "cell_type": "code",
   "execution_count": null,
   "metadata": {},
   "outputs": [],
   "source": []
  },
  {
   "cell_type": "markdown",
   "metadata": {},
   "source": [
    "---\n",
    "### Raising and handling exceptions\n",
    "\n",
    "You can force specific exceptions to occur in your programs, using the `raise` statement. For example, let us write a function which returns the square root of a number if the number is positive, and raises a `ValueError` if the number is negative:"
   ]
  },
  {
   "cell_type": "code",
   "execution_count": null,
   "metadata": {},
   "outputs": [],
   "source": [
    "import numpy as np\n",
    "\n",
    "def my_sqrt(x):\n",
    "    \"\"\"Returns sqrt(x) if x is positive,\n",
    "    raises a ValueError if x is negative.\n",
    "    \"\"\"\n",
    "    if x < 0:\n",
    "        raise ValueError('Cannot take sqrt of a negative number!')\n",
    "    else:\n",
    "        return np.sqrt(x)\n",
    "    \n",
    "print(my_sqrt(3))\n",
    "print(my_sqrt(-2))"
   ]
  },
  {
   "cell_type": "markdown",
   "metadata": {},
   "source": [
    "If you have programmed in another language before, you may be familiar with `try`/`catch` blocks. In Python, the equivalent is `try`/`except`, which allows you to handle selected exceptions when they are raised, and to do something else instead of letting the program crash with an error. This is a bit more advanced, but if you are keen to learn how to do this, [the documentation on handling exceptions has many examples](https://docs.python.org/3/tutorial/errors.html#handling-exceptions).\n",
    "\n",
    "---\n",
    "**📚  Learn more:**\n",
    "* [Errors and exceptions](https://docs.python.org/3/tutorial/errors.html) - Python 3 documentation\n",
    "* [Built-in exceptions](https://docs.python.org/3/library/exceptions.html#built-in-exceptions) - Python 3 documentation\n",
    "* [Concrete exceptions](https://docs.python.org/3/library/exceptions.html#concrete-exceptions) - Python 3 documentation\n",
    "* [Handling exceptions](https://docs.python.org/3/tutorial/errors.html#handling-exceptions) - Python 3 documentation\n",
    "* [Errors and Exceptions](https://jakevdp.github.io/WhirlwindTourOfPython/09-errors-and-exceptions.html) - J. VanderPlas, *A Whirlwind Tour of Python*\n",
    "\n",
    "---\n",
    "🚩 ***Exercise 9:*** Improve the function `my_sqrt()` above to raise a `TypeError` with an appropriate message whenever `x` is neither a `float` nor an `int`.\n",
    "\n",
    "*Hint:* you may wish to use [the `isinstance()` function](https://docs.python.org/3/library/functions.html#isinstance)."
   ]
  },
  {
   "cell_type": "code",
   "execution_count": null,
   "metadata": {},
   "outputs": [],
   "source": []
  },
  {
   "cell_type": "code",
   "execution_count": null,
   "metadata": {
    "tags": [
     "solution_cell"
    ]
   },
   "outputs": [],
   "source": [
    "%run scripts/show_solutions.py 'W2_ex9'"
   ]
  },
  {
   "cell_type": "markdown",
   "metadata": {},
   "source": [
    "---\n",
    "## Fixing errors and debugging code\n",
    "\n",
    "When writing more complex programs, it can become difficult to figure out what goes wrong. You may encounter an exception, in which case the error trace will be helpful.\n",
    "\n",
    "You may also just obtain the wrong result, without encountering any runtime errors. In this case, here are some things to try:\n",
    "- The easiest thing to do to try and find the problem is to **`print()` values** at selected points -- usually in a loop or a function, to keep track of intermediate values.\n",
    "- **Plotting** is also a good idea for more complex data.\n",
    "- Test your code for **small arrays** or **small numbers**, for which you already know what the result should be. Start off with something you know, and build from there: try trivial inputs and check that you get the correct output; then, try something slightly more complex; and keep iterating until you find the problem.\n",
    "\n",
    "Ultimately, you will need to visualise the data/values, one way or another.\n",
    "\n",
    "If you are familiar with debuggers, you may also wish to look into `pdb` and `ipdb` -- in particular, `ipdb` can be used in Jupyter notebook cells interactively.\n",
    "\n",
    "Finally, perhaps the most important advice of all: **search the documentation**! Most of the links in the **Learn more** sections come from the Python documentation, and tutorials therein. It is extremely comprehensive, and the tutorials include many code examples to demonstrate features. When running into a problem, *the documentation should be the first place you look at*.\n",
    "\n",
    "\n",
    "---\n",
    "**📚 Learn more:**\n",
    "* [The %debug magic: debugging Jupyter and IPython notebooks](https://ipython.readthedocs.io/en/stable/interactive/magics.html#magic-debug)\n",
    "* [pdb - The Python Debugger - Python 3 documentation](https://docs.python.org/3/library/pdb.html)\n",
    "* [ipdb - The IPython Debugger - Github](https://github.com/gotcha/ipdb)\n",
    "* [The %pdb magic](https://ipython.readthedocs.io/en/stable/interactive/magics.html#magic-pdb)\n",
    "\n",
    "---"
   ]
  }
 ],
 "metadata": {
  "kernelspec": {
   "display_name": "Python 3",
   "language": "python",
   "name": "python3"
  },
  "language_info": {
   "codemirror_mode": {
    "name": "ipython",
    "version": 3
   },
   "file_extension": ".py",
   "mimetype": "text/x-python",
   "name": "python",
   "nbconvert_exporter": "python",
   "pygments_lexer": "ipython3",
   "version": "3.7.6"
  }
 },
 "nbformat": 4,
 "nbformat_minor": 4
}
